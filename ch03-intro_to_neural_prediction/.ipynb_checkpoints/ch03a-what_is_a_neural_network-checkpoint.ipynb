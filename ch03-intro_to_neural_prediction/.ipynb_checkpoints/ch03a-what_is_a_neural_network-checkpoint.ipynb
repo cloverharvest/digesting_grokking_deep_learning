{
 "cells": [
  {
   "cell_type": "markdown",
   "metadata": {},
   "source": [
    "## This is a neural network.\n",
    "\n",
    "We want to find out the probability of winning the baseball game given the following input data.\n"
   ]
  },
  {
   "cell_type": "code",
   "execution_count": 2,
   "metadata": {},
   "outputs": [
    {
     "name": "stdout",
     "output_type": "stream",
     "text": [
      "0.8500000000000001\n"
     ]
    }
   ],
   "source": [
    "weight = 0.1\n",
    "\n",
    "def neural_network(input, weight):\n",
    "    prediction = input * weight\n",
    "    return prediction\n",
    "\n",
    "number_of_toes = [8.5, 9.5, 10, 9]\n",
    "\n",
    "input = number_of_toes[0]\n",
    "\n",
    "pred = neural_network(input,weight)\n",
    "\n",
    "print(pred)\n"
   ]
  },
  {
   "cell_type": "markdown",
   "metadata": {},
   "source": [
    "Given the input data, we can say that there is an 85% chance of success that the team with an average number of toes of 8.5 and a weight of 0.1 will win.\n",
    "\n",
    "\n"
   ]
  },
  {
   "cell_type": "markdown",
   "metadata": {},
   "source": [
    "## So what is a neural network, for now?\n",
    "\n",
    "For now, it's one or more weights which we can multiply by our input data to make a prediction.\n",
    "\n",
    "### What is input data?\n",
    "It's a number that we recorded in the real world somewhere. It's usually some- thing that is easily knowable, like today's temperature, a baseball player's batting average, or yesterday's stock price.\n",
    "\n",
    "### What is a prediction?\n",
    "A prediction is what the neural network tells us given our input data such as \"given the temperature, it is 0% likely that people will wear sweatsuits today\" or \"given a baseball player's batting average, he is 30% likely to hit a home run\" or \"given yesterday's stock price, today's stock price will be 101.52\".\n",
    "\n",
    "### Is this prediction always right?\n",
    "No. Sometimes our neural network will make mistakes, but it can learn from them. For example, if it predicts too high, it will adjust it's weight to predict low- er next time and vice versa.\n",
    "\n",
    "### How does the network learn?\n",
    "Trial and error! First, it tries to make a prediction. Then, it sees whether it was too high or too low. Finally, it changes the weight (up or down) to predict more accurately the next time it sees the same input.\n"
   ]
  },
  {
   "cell_type": "markdown",
   "metadata": {},
   "source": [
    "## What does a neural network do?\n",
    "\n",
    "### It multiplies the input by a weight. It \"scales\" the input by a certain amount.\n",
    "\n",
    "\n",
    "The interface for our neural network is really quite simple. <font color=red>It accepts an __input__ variable as **information**, and a weight variable as **knowledge** and outputs a __prediction__.</font> Every neural network you will ever see works this way. <font color=red>It uses the knowledge in the weights to interpret the information in the input data.</font> Later neural networks will accept larger, more complicated input and weight values, but this same underlying premise will always ring true.\n",
    "    \n",
    "A neural network only knows what you feed it as input. It forgets everything else. Later, we will learn how to give neural networks \"short term memories\" by feeding in multiple inputs at once.\n",
    "\n",
    "Another way to think about a neural network's <font color=red> weight is as a measure of sensitivity between the input of the network and its prediction</font>...This sensitivity is very akin to volume. \"Turning up the weight\" amplifies our prediction relative to our input. weight is a volume knob!\n",
    "\n",
    "Before we go, neural networks don't just predict positive numbers either, they can also predict negative numbers, and even take negative numbers as input.\n",
    "\n",
    "\n"
   ]
  }
 ],
 "metadata": {
  "kernelspec": {
   "display_name": "Python 3",
   "language": "python",
   "name": "python3"
  },
  "language_info": {
   "codemirror_mode": {
    "name": "ipython",
    "version": 3
   },
   "file_extension": ".py",
   "mimetype": "text/x-python",
   "name": "python",
   "nbconvert_exporter": "python",
   "pygments_lexer": "ipython3",
   "version": "3.6.4"
  }
 },
 "nbformat": 4,
 "nbformat_minor": 2
}
